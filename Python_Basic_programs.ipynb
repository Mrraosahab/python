{
 "cells": [
  {
   "cell_type": "markdown",
   "metadata": {
    "id": "TjfBKngbK7sR"
   },
   "source": [
    "This notebook is created for only fun purpose. For any suggestion, please contact at pkyadav3444@gmail.com\n",
    "\n",
    "Created By: **Pradeep Kumar Yadav**"
   ]
  },
  {
   "cell_type": "markdown",
   "metadata": {
    "id": "gNZQOd8HBBnA"
   },
   "source": [
    "Factorial of a given Number"
   ]
  },
  {
   "cell_type": "code",
   "execution_count": 1,
   "metadata": {
    "colab": {
     "base_uri": "https://localhost:8080/"
    },
    "id": "aKUuMeKNUgnK",
    "outputId": "85504048-f0e8-4d1f-c189-b8c2d95cb732"
   },
   "outputs": [
    {
     "name": "stdout",
     "output_type": "stream",
     "text": [
      "Enter a int number\n",
      "6\n",
      "Factorial of 6 is: 720\n"
     ]
    }
   ],
   "source": [
    "x = int(input(\"Enter a int number\\n\"))\n",
    "def fact(n):\n",
    "  f = 1\n",
    "  for i in range(1, n+1):\n",
    "    f=f*i\n",
    "  return f\n",
    "result = fact(x)\n",
    "print(\"Factorial of\",x, \"is:\", result)"
   ]
  },
  {
   "cell_type": "markdown",
   "metadata": {
    "id": "u-T8x__3A_-D"
   },
   "source": [
    "Check a given year is Leap or not"
   ]
  },
  {
   "cell_type": "code",
   "execution_count": 3,
   "metadata": {
    "colab": {
     "base_uri": "https://localhost:8080/"
    },
    "id": "fa0oSNjsU64_",
    "outputId": "5082e1d0-c7b7-47a4-d21d-91194d2627be"
   },
   "outputs": [
    {
     "name": "stdout",
     "output_type": "stream",
     "text": [
      "Enter year\n",
      "2019\n",
      "2019 is a not a leap year\n"
     ]
    }
   ],
   "source": [
    "year = int(input(\"Enter year\\n\"))\n",
    "if year%4==0:\n",
    "  if year%100==0:\n",
    "    if year%400==0:\n",
    "      print(\"{0} is a leap year\".format(year))\n",
    "    else:\n",
    "      print(\"{0} is not a leap year\".format(year))\n",
    "  else:\n",
    "      print(\"{0} is a leap year\".format(year))\n",
    "else:\n",
    "  print(\"{0} is a not a leap year\".format(year))"
   ]
  },
  {
   "cell_type": "markdown",
   "metadata": {
    "id": "5H91CeGqCaAz"
   },
   "source": [
    "Swap two numbers"
   ]
  },
  {
   "cell_type": "code",
   "execution_count": 4,
   "metadata": {
    "colab": {
     "base_uri": "https://localhost:8080/"
    },
    "id": "GNxcmqlEiv5G",
    "outputId": "d4bf18cc-3c51-40d0-d997-56fa65596535"
   },
   "outputs": [
    {
     "name": "stdout",
     "output_type": "stream",
     "text": [
      "10 20\n",
      "20 10\n"
     ]
    }
   ],
   "source": [
    "x = 10\n",
    "y = 20\n",
    "print(x, y)\n",
    "x, y = y, x\n",
    "print(x, y)"
   ]
  },
  {
   "cell_type": "markdown",
   "metadata": {
    "id": "hE9Ip6jSCekq"
   },
   "source": [
    "reverse a string"
   ]
  },
  {
   "cell_type": "code",
   "execution_count": 5,
   "metadata": {
    "colab": {
     "base_uri": "https://localhost:8080/"
    },
    "id": "t6YqQi4TjxqR",
    "outputId": "fb2e2b1f-a143-49da-8b1d-5fdcd55f718c"
   },
   "outputs": [
    {
     "name": "stdout",
     "output_type": "stream",
     "text": [
      "rupiaj\n"
     ]
    }
   ],
   "source": [
    "a = \"jaipur\"\n",
    "print(a[::-1])"
   ]
  },
  {
   "cell_type": "markdown",
   "metadata": {
    "id": "KOu8oMq8CkIz"
   },
   "source": [
    "Create a string using list elements"
   ]
  },
  {
   "cell_type": "code",
   "execution_count": 6,
   "metadata": {
    "colab": {
     "base_uri": "https://localhost:8080/"
    },
    "id": "_VZMnvTRkAV7",
    "outputId": "6797f4a5-84b7-4e90-f26a-9856091c47c8"
   },
   "outputs": [
    {
     "name": "stdout",
     "output_type": "stream",
     "text": [
      "Jaipur a pinkcity\n"
     ]
    }
   ],
   "source": [
    "list1 = [\"Jaipur\", \"a\", \"pinkcity\"]\n",
    "print(\" \".join(list1))"
   ]
  },
  {
   "cell_type": "markdown",
   "metadata": {
    "id": "buDXHhu5C3em"
   },
   "source": [
    "Chaining Of Comparison Operators"
   ]
  },
  {
   "cell_type": "code",
   "execution_count": 7,
   "metadata": {
    "colab": {
     "base_uri": "https://localhost:8080/"
    },
    "id": "3wIp2wQakW6Y",
    "outputId": "10cfca53-ea84-4b68-bbea-14607dc43f86"
   },
   "outputs": [
    {
     "name": "stdout",
     "output_type": "stream",
     "text": [
      "True\n",
      "False\n"
     ]
    }
   ],
   "source": [
    "n = 10\n",
    "result = 1<n<20\n",
    "print(result)\n",
    "result = 1>n>20\n",
    "print(result)"
   ]
  },
  {
   "cell_type": "markdown",
   "metadata": {
    "id": "RM3vaciSC___"
   },
   "source": [
    "Print The File Path Of Imported Modules"
   ]
  },
  {
   "cell_type": "code",
   "execution_count": 8,
   "metadata": {
    "colab": {
     "base_uri": "https://localhost:8080/"
    },
    "id": "YvOf2Uedk_7R",
    "outputId": "b8aff3ee-65f7-4e89-9b03-ef5195906dd3"
   },
   "outputs": [
    {
     "name": "stdout",
     "output_type": "stream",
     "text": [
      "<module 'os' from '/usr/lib/python3.8/os.py'>\n",
      "<module 'socket' from '/usr/lib/python3.8/socket.py'>\n"
     ]
    }
   ],
   "source": [
    "import os\n",
    "import socket\n",
    "print(os)\n",
    "print(socket)"
   ]
  },
  {
   "cell_type": "markdown",
   "metadata": {
    "id": "QYgtu-gODGUB"
   },
   "source": [
    "Use Of Enums In Python"
   ]
  },
  {
   "cell_type": "code",
   "execution_count": 9,
   "metadata": {
    "colab": {
     "base_uri": "https://localhost:8080/"
    },
    "id": "cL7XEc5-lMfC",
    "outputId": "4ce71bf2-ee1b-4992-a87f-455f1ce9d9df"
   },
   "outputs": [
    {
     "name": "stdout",
     "output_type": "stream",
     "text": [
      "0\n",
      "1\n",
      "2\n"
     ]
    }
   ],
   "source": [
    "class myName:\n",
    "  pradeep, kumar, yadav = range(3)\n",
    "print(myName.pradeep)\n",
    "print(myName.kumar)\n",
    "print(myName.yadav)"
   ]
  },
  {
   "cell_type": "markdown",
   "metadata": {
    "id": "IJffNWHoDLUY"
   },
   "source": [
    "Return Multiple Values From Functions"
   ]
  },
  {
   "cell_type": "code",
   "execution_count": 10,
   "metadata": {
    "colab": {
     "base_uri": "https://localhost:8080/"
    },
    "id": "hP_j05ah564o",
    "outputId": "e5cdaf47-0def-4247-abfa-7df97e174b3f"
   },
   "outputs": [
    {
     "name": "stdout",
     "output_type": "stream",
     "text": [
      "1 2 3 4\n"
     ]
    }
   ],
   "source": [
    "def x():\n",
    "  return 1, 2, 3, 4\n",
    "a,b,c,d=x()\n",
    "print(a,b,c,d)"
   ]
  },
  {
   "cell_type": "markdown",
   "metadata": {
    "id": "FVzRm_vODQWu"
   },
   "source": [
    "Find The Most Frequent Value In A List"
   ]
  },
  {
   "cell_type": "code",
   "execution_count": 11,
   "metadata": {
    "colab": {
     "base_uri": "https://localhost:8080/"
    },
    "id": "nP2aZ5MB6V35",
    "outputId": "8e7211e7-52b2-4f7f-c6d7-f5beb78de6d6"
   },
   "outputs": [
    {
     "name": "stdout",
     "output_type": "stream",
     "text": [
      "4\n"
     ]
    }
   ],
   "source": [
    "test = [1, 2, 3, 4, 2, 2, 3, 1, 4, 4, 4] \n",
    "a = max(set(test), key=test.count)\n",
    "print(a)"
   ]
  },
  {
   "cell_type": "markdown",
   "metadata": {
    "id": "gNlSpDBKDWsV"
   },
   "source": [
    "Check The Memory Usage Of An Object"
   ]
  },
  {
   "cell_type": "code",
   "execution_count": 12,
   "metadata": {
    "colab": {
     "base_uri": "https://localhost:8080/"
    },
    "id": "iS2FSskL6thy",
    "outputId": "0e552d16-7d8f-4a3e-db43-a6d43447bae9"
   },
   "outputs": [
    {
     "name": "stdout",
     "output_type": "stream",
     "text": [
      "28\n"
     ]
    }
   ],
   "source": [
    "import sys\n",
    "x = 1\n",
    "print(sys.getsizeof(x))"
   ]
  },
  {
   "cell_type": "markdown",
   "metadata": {
    "id": "T7BoSvOHDcCS"
   },
   "source": [
    "Print string N times"
   ]
  },
  {
   "cell_type": "code",
   "execution_count": 13,
   "metadata": {
    "colab": {
     "base_uri": "https://localhost:8080/"
    },
    "id": "L5L9fw907HXc",
    "outputId": "6c8ec542-6ee4-4287-8186-8b3443679ff6"
   },
   "outputs": [
    {
     "name": "stdout",
     "output_type": "stream",
     "text": [
      "pradeep pradeep \n"
     ]
    }
   ],
   "source": [
    "n = 2\n",
    "a = \"pradeep \"\n",
    "print(a *n)"
   ]
  },
  {
   "cell_type": "markdown",
   "metadata": {
    "id": "0a-CY2BxDjiw"
   },
   "source": [
    "Checking if two words are anagrams"
   ]
  },
  {
   "cell_type": "code",
   "execution_count": 14,
   "metadata": {
    "colab": {
     "base_uri": "https://localhost:8080/"
    },
    "id": "6QTFor-97qAK",
    "outputId": "3b5903dc-fb04-4e0f-afee-039b17567a16"
   },
   "outputs": [
    {
     "name": "stdout",
     "output_type": "stream",
     "text": [
      "True\n",
      "False\n"
     ]
    }
   ],
   "source": [
    "from collections import Counter\n",
    "def counter_check(str1, str2):\n",
    "  return Counter(str1)==Counter(str2)\n",
    "print(counter_check(\"geek\", \"eekg\"))\n",
    "print(counter_check(\"geek\", \"pekg\"))"
   ]
  },
  {
   "cell_type": "markdown",
   "metadata": {
    "id": "rKW9Lk73Drnb"
   },
   "source": [
    "Squar of all elements in a list"
   ]
  },
  {
   "cell_type": "code",
   "execution_count": 15,
   "metadata": {
    "colab": {
     "base_uri": "https://localhost:8080/"
    },
    "id": "RHKHzeXE80os",
    "outputId": "d354e685-689f-4009-d427-4f3bdb98f451"
   },
   "outputs": [
    {
     "name": "stdout",
     "output_type": "stream",
     "text": [
      "1\n",
      "4\n",
      "9\n",
      "16\n",
      "25\n",
      "36\n"
     ]
    }
   ],
   "source": [
    "list2 = [1, 2, 3, 4, 5, 6]\n",
    "def squar_list(x):\n",
    "  for i in list2:\n",
    "    print(i*i)\n",
    "squar_list(list2)"
   ]
  },
  {
   "cell_type": "markdown",
   "metadata": {
    "id": "1Q-uxeUDDyAW"
   },
   "source": [
    "Display calendar"
   ]
  },
  {
   "cell_type": "code",
   "execution_count": 16,
   "metadata": {
    "colab": {
     "base_uri": "https://localhost:8080/"
    },
    "id": "YDotFu9Z-JvT",
    "outputId": "94affbe6-0550-4940-f962-8e8e6390fbe4"
   },
   "outputs": [
    {
     "name": "stdout",
     "output_type": "stream",
     "text": [
      "     April 2020\n",
      "Mo Tu We Th Fr Sa Su\n",
      "       1  2  3  4  5\n",
      " 6  7  8  9 10 11 12\n",
      "13 14 15 16 17 18 19\n",
      "20 21 22 23 24 25 26\n",
      "27 28 29 30\n",
      "\n"
     ]
    }
   ],
   "source": [
    "import calendar\n",
    "yy=2020\n",
    "mm=4\n",
    "print(calendar.month(yy, mm))"
   ]
  },
  {
   "cell_type": "code",
   "execution_count": null,
   "metadata": {
    "id": "V2fHnqXcAGkp"
   },
   "outputs": [],
   "source": []
  }
 ],
 "metadata": {
  "colab": {
   "name": "Python_Basic_programs.ipynb",
   "provenance": []
  },
  "kernelspec": {
   "display_name": "Python 3",
   "language": "python",
   "name": "python3"
  },
  "language_info": {
   "codemirror_mode": {
    "name": "ipython",
    "version": 3
   },
   "file_extension": ".py",
   "mimetype": "text/x-python",
   "name": "python",
   "nbconvert_exporter": "python",
   "pygments_lexer": "ipython3",
   "version": "3.8.5"
  }
 },
 "nbformat": 4,
 "nbformat_minor": 1
}
